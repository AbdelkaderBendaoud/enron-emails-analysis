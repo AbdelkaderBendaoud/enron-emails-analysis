{
 "cells": [
  {
   "cell_type": "code",
   "execution_count": 20,
   "metadata": {},
   "outputs": [],
   "source": [
    "import random\n",
    "import numpy\n",
    "import matplotlib.pyplot as plt\n",
    "import pickle\n",
    "\n",
    "import warnings\n",
    "warnings.filterwarnings('ignore')\n"
   ]
  },
  {
   "cell_type": "code",
   "execution_count": 24,
   "metadata": {},
   "outputs": [],
   "source": [
    "def outlierCleaner(predictions, ages, net_worths):\n",
    "    \"\"\"\n",
    "        clean away the 10% of points that have the largest\n",
    "        residual errors (different between the prediction\n",
    "        and the actual net worth)\n",
    "        return a list of tuples named cleaned_data where\n",
    "        each tuple is of the form (age, net_worth, error)\n",
    "    \"\"\"\n",
    "\n",
    "    cleaned_data = []\n",
    "\n",
    "    ### your code goes here\n",
    "    error = list( (net_worths - predictions)**2 )\n",
    "\n",
    "    cleaned_data = zip(ages, net_worths, error)\n",
    "    cleaned_data = sorted(cleaned_data, key = lambda tup: tup[2])\n",
    "    cleaned_data = cleaned_data[:80]\n",
    "\n",
    "    return cleaned_data"
   ]
  },
  {
   "cell_type": "code",
   "execution_count": 25,
   "metadata": {},
   "outputs": [
    {
     "name": "stdout",
     "output_type": "stream",
     "text": [
      "Done. Saved 100 bytes.\n"
     ]
    }
   ],
   "source": [
    "original = \"C:\\\\Users\\\\NGSi\\\\ud120\\\\outliers\\\\practice_outliers_ages.pkl\"\n",
    "destination = \"C:\\\\Users\\\\NGSi\\\\ud120\\\\outliers\\\\practice_outliers_ages_unix.pkl\"\n",
    "content = ''\n",
    "outsize = 0\n",
    "with open(original, 'rb') as infile:\n",
    "    content = infile.read()\n",
    "with open(destination, 'wb') as output:\n",
    "    for line in content.splitlines():\n",
    "        outsize += len(line) + 1\n",
    "        output.write(line + str.encode('\\n'))\n",
    "\n",
    "print(\"Done. Saved %s bytes.\" % (len(content)-outsize))"
   ]
  },
  {
   "cell_type": "code",
   "execution_count": 26,
   "metadata": {},
   "outputs": [
    {
     "name": "stdout",
     "output_type": "stream",
     "text": [
      "Done. Saved 100 bytes.\n"
     ]
    }
   ],
   "source": [
    "original1= \"C:\\\\Users\\\\NGSi\\\\ud120\\\\outliers\\\\practice_outliers_net_worths.pkl\"\n",
    "destination1= \"C:\\\\Users\\\\NGSi\\\\ud120\\\\outliers\\\\practice_outliers_net_worths_unix.pkl\"\n",
    "content = ''\n",
    "outsize = 0\n",
    "with open(original1,'rb') as infile:\n",
    "    content = infile.read()\n",
    "with open(destination1,'wb') as output:\n",
    "    for line in content.splitlines():\n",
    "        outsize += len(line) + 1\n",
    "        output.write(line + str.encode('\\n'))\n",
    "\n",
    "print(\"Done. Saved %s bytes.\" % (len(content)-outsize))"
   ]
  },
  {
   "cell_type": "code",
   "execution_count": 28,
   "metadata": {},
   "outputs": [
    {
     "name": "stdout",
     "output_type": "stream",
     "text": [
      "Coeff:  [[5.07793064]]\n",
      "Intercept:  [25.21002155]\n",
      "Score:  0.4898725961751499\n",
      "Score:  0.8782624703664675\n"
     ]
    },
    {
     "data": {
      "image/png": "[encoded data removed]",
      "text/plain": [
       "<matplotlib.figure.Figure at 0xb5b7128>"
      ]
     },
     "metadata": {},
     "output_type": "display_data"
    }
   ],
   "source": [
    "\n",
    "### load up some practice data with outliers in it\n",
    "ages = pickle.load( open(\"C:\\\\Users\\\\NGSi\\\\ud120\\\\outliers\\\\practice_outliers_ages_unix.pkl\", \"rb\") )\n",
    "net_worths = pickle.load( open(\"C:\\\\Users\\\\NGSi\\\\ud120\\\\outliers\\\\practice_outliers_net_worths_unix.pkl\", \"rb\") )\n",
    "\n",
    "\n",
    "\n",
    "### ages and net_worths need to be reshaped into 2D numpy arrays\n",
    "### second argument of reshape command is a tuple of integers: (n_rows, n_columns)\n",
    "### by convention, n_rows is the number of data points\n",
    "### and n_columns is the number of features\n",
    "ages       = numpy.reshape( numpy.array(ages), (len(ages), 1))\n",
    "net_worths = numpy.reshape( numpy.array(net_worths), (len(net_worths), 1))\n",
    "from sklearn.cross_validation import train_test_split\n",
    "ages_train, ages_test, net_worths_train, net_worths_test = train_test_split(ages, net_worths, test_size=0.1, random_state=42)\n",
    "\n",
    "### fill in a regression here!  Name the regression object reg so that\n",
    "### the plotting code below works, and you can see what your regression looks like\n",
    "\n",
    "from sklearn.linear_model import LinearRegression\n",
    "\n",
    "\n",
    "reg = LinearRegression()\n",
    "reg.fit(ages_train, net_worths_train)\n",
    "print(\"Coeff: \", reg.coef_) \n",
    "print(\"Intercept: \", reg.intercept_) \n",
    "print(\"Score: \", reg.score(ages_train, net_worths_train))\n",
    "print(\"Score: \", reg.score(ages_test, net_worths_test))\n",
    "pred = reg.predict(ages_test)\n",
    "\n",
    "\n",
    "try:\n",
    "    plt.plot(ages, reg.predict(ages), color=\"blue\")\n",
    "except NameError:\n",
    "    pass\n",
    "plt.scatter(ages, net_worths)\n",
    "plt.show()\n",
    "\n",
    "\n",
    "### identify and remove the most outlier-y points\n",
    "cleaned_data = []\n",
    "try:\n",
    "    predictions = reg.predict(ages_train)\n",
    "    cleaned_data = outlierCleaner( predictions, ages_train, net_worths_train )\n",
    "except NameError:\n",
    "    print(\"your regression object doesn't exist, or isn't name reg\")\n",
    "    print(\"can't make predictions to use in identifying outliers\")\n",
    "\n",
    "\n",
    "\n"
   ]
  },
  {
   "cell_type": "code",
   "execution_count": 30,
   "metadata": {},
   "outputs": [
    {
     "data": {
      "image/png": "[encoded data removed]",
      "text/plain": [
       "<matplotlib.figure.Figure at 0xba50240>"
      ]
     },
     "metadata": {},
     "output_type": "display_data"
    },
    {
     "name": "stdout",
     "output_type": "stream",
     "text": [
      "************AFTER REMOVING OUTLIERS*************\n",
      "Coeff:  [[6.32006691]]\n",
      "Intercept:  [-5.32173018]\n",
      "Score:  0.41356442151468853\n",
      "Score:  0.9824700510044744\n"
     ]
    }
   ],
   "source": [
    "\n",
    "### only run this code if cleaned_data is returning data\n",
    "if len(cleaned_data) > 0:\n",
    "    ages, net_worths, errors = zip(*cleaned_data)\n",
    "    ages       = numpy.reshape( numpy.array(ages), (len(ages), 1))\n",
    "    net_worths = numpy.reshape( numpy.array(net_worths), (len(net_worths), 1))\n",
    "\n",
    "    ### refit your cleaned data!\n",
    "    try:\n",
    "        reg.fit(ages, net_worths)\n",
    "        plt.plot(ages, reg.predict(ages), color=\"blue\")\n",
    "    except NameError:\n",
    "        print(\"you don't seem to have regression imported/created,\")\n",
    "        print(\"   or else your regression object isn't named reg\")\n",
    "        print(\"   either way, only draw the scatter plot of the cleaned data\")\n",
    "    plt.scatter(ages, net_worths)\n",
    "    plt.xlabel(\"ages\")\n",
    "    plt.ylabel(\"net worths\")\n",
    "    plt.show()\n",
    "\n",
    "\n",
    "else:\n",
    "    print(\"outlierCleaner() is returning an empty list, no refitting to be done\")\n",
    "\n",
    "print('************AFTER REMOVING OUTLIERS*************')\n",
    "\n",
    "print(\"Coeff: \", reg.coef_) \n",
    "print(\"Intercept: \", reg.intercept_) \n",
    "print(\"Score: \", reg.score(ages_train, net_worths_train))\n",
    "print(\"Score: \", reg.score(ages_test, net_worths_test))\n"
   ]
  }
 ],
 "metadata": {
  "kernelspec": {
   "display_name": "Python 3",
   "language": "python",
   "name": "python3"
  },
  "language_info": {
   "codemirror_mode": {
    "name": "ipython",
    "version": 3
   },
   "file_extension": ".py",
   "mimetype": "text/x-python",
   "name": "python",
   "nbconvert_exporter": "python",
   "pygments_lexer": "ipython3",
   "version": "3.6.4"
  }
 },
 "nbformat": 4,
 "nbformat_minor": 2
}
