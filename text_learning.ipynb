{
 "cells": [
  {
   "cell_type": "code",
   "execution_count": 1,
   "metadata": {},
   "outputs": [],
   "source": [
    "import numpy as np\n",
    "import os\n",
    "import pickle\n",
    "import re\n",
    "import sys\n",
    "import pandas as pd"
   ]
  },
  {
   "cell_type": "code",
   "execution_count": 2,
   "metadata": {},
   "outputs": [],
   "source": [
    "#modified the path\n",
    "sys.path.append( \"../text_learning/\" )\n"
   ]
  },
  {
   "cell_type": "code",
   "execution_count": 3,
   "metadata": {},
   "outputs": [],
   "source": [
    "#this lines of code create a new file name 'content' same as the original code but much simpler and easy tow work with\n",
    "\n",
    "filenames = ['C:\\\\Users\\\\NGSi\\\\ud120\\\\text_learning\\\\from_sara.txt', 'C:\\\\Users\\\\NGSi\\\\ud120\\\\text_learning\\\\from_chris.txt']\n",
    "with open('C:\\\\Users\\\\NGSi\\\\ud120\\\\text_learning\\\\content', 'w') as outfile:\n",
    "    for fname in filenames:\n",
    "        with open(fname) as infile:\n",
    "            for line in infile:\n",
    "                outfile.write(line)"
   ]
  },
  {
   "cell_type": "code",
   "execution_count": 4,
   "metadata": {},
   "outputs": [],
   "source": [
    "#read the new file that we just created \n",
    "\n",
    "content = open(\"C:\\\\Users\\\\NGSi\\\\ud120\\\\text_learning\\\\content\",\"r\")\n",
    "\n",
    "content = content.read()"
   ]
  },
  {
   "cell_type": "code",
   "execution_count": 5,
   "metadata": {},
   "outputs": [],
   "source": [
    "#stopwords_list\n",
    "stop_words = [\"sara\", \"shackleton\", \"chris\", \"germani\", \"sshacklensf\", \"cgermannsf\", \"houectect\"]"
   ]
  },
  {
   "cell_type": "code",
   "execution_count": 6,
   "metadata": {},
   "outputs": [],
   "source": [
    "#iterate over the file and remove the stopwords_list\n",
    "for w in stop_words:\n",
    "                content = content.replace(w, \"\")"
   ]
  },
  {
   "cell_type": "code",
   "execution_count": 7,
   "metadata": {},
   "outputs": [],
   "source": [
    "#stemmer to stem the content file\n",
    "from nltk.stem.snowball import SnowballStemmer\n",
    "stemmer = SnowballStemmer(\"english\")"
   ]
  },
  {
   "cell_type": "code",
   "execution_count": 8,
   "metadata": {},
   "outputs": [],
   "source": [
    "#append all stemmed data to word_data list\n",
    "word_data =[]\n",
    "word_data.append(stemmer.stem(content))"
   ]
  },
  {
   "cell_type": "code",
   "execution_count": 9,
   "metadata": {},
   "outputs": [],
   "source": [
    "#iterate over content and remove sara and chris replace them by 0 and 1\n",
    "from_data = []\n",
    "for name in content:\n",
    "    \n",
    "    if name == \"sara\":\n",
    "                from_data.append(0)\n",
    "    else:\n",
    "                from_data.append(1)\n"
   ]
  },
  {
   "cell_type": "code",
   "execution_count": 10,
   "metadata": {},
   "outputs": [
    {
     "data": {
      "text/plain": [
       "(544770, 1)"
      ]
     },
     "execution_count": 10,
     "metadata": {},
     "output_type": "execute_result"
    }
   ],
   "source": [
    "len(from_data) , len(word_data)"
   ]
  },
  {
   "cell_type": "code",
   "execution_count": 25,
   "metadata": {},
   "outputs": [
    {
     "name": "stdout",
     "output_type": "stream",
     "text": [
      "#feature names:  6345\n"
     ]
    }
   ],
   "source": [
    "#extract all features (words) from  our data and remove all english stopwords\n",
    "\n",
    "from sklearn.feature_extraction.text import TfidfVectorizer\n",
    "vectorizer = TfidfVectorizer(stop_words=\"english\")\n",
    "\n",
    "vectorizer.fit_transform(word_data)\n",
    "print(\"#feature names: \", len(vectorizer.get_feature_names()))\n"
   ]
  }
 ],
 "metadata": {
  "kernelspec": {
   "display_name": "Python 3",
   "language": "python",
   "name": "python3"
  },
  "language_info": {
   "codemirror_mode": {
    "name": "ipython",
    "version": 3
   },
   "file_extension": ".py",
   "mimetype": "text/x-python",
   "name": "python",
   "nbconvert_exporter": "python",
   "pygments_lexer": "ipython3",
   "version": "3.6.4"
  }
 },
 "nbformat": 4,
 "nbformat_minor": 2
}
